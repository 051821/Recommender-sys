{
 "cells": [
  {
   "cell_type": "code",
   "execution_count": 1,
   "id": "3673bcc7",
   "metadata": {},
   "outputs": [
    {
     "name": "stdout",
     "output_type": "stream",
     "text": [
      "Defaulting to user installation because normal site-packages is not writeable\n",
      "Requirement already satisfied: prettytable in c:\\users\\91739\\appdata\\local\\packages\\pythonsoftwarefoundation.python.3.12_qbz5n2kfra8p0\\localcache\\local-packages\\python312\\site-packages (3.16.0)\n",
      "Requirement already satisfied: wcwidth in c:\\users\\91739\\appdata\\local\\packages\\pythonsoftwarefoundation.python.3.12_qbz5n2kfra8p0\\localcache\\local-packages\\python312\\site-packages (from prettytable) (0.2.13)\n"
     ]
    }
   ],
   "source": [
    "!pip install prettytable"
   ]
  },
  {
   "cell_type": "code",
   "execution_count": 5,
   "id": "909d34a5",
   "metadata": {},
   "outputs": [
    {
     "name": "stdout",
     "output_type": "stream",
     "text": [
      "\n",
      "Recommended Restaurants in Delhi with rating >= 4.3 and price <= 500.0:\n",
      "+----------+--------------+-------+---------+--------+---------------+----------------------------+\n",
      "| Location |     Name     |  City | Cuisine | Rating | Total Reviews | Average Cost for Two (INR) |\n",
      "+----------+--------------+-------+---------+--------+---------------+----------------------------+\n",
      "| MG Road  | Pizza Palace | Delhi |   Thai  |  4.8   |      2586     |            343             |\n",
      "+----------+--------------+-------+---------+--------+---------------+----------------------------+\n"
     ]
    }
   ],
   "source": [
    "import pandas as pd\n",
    "from sklearn.cluster import KMeans\n",
    "from sklearn.preprocessing import StandardScaler\n",
    "from prettytable import PrettyTable\n",
    "\n",
    "# Load dataset (assuming it's already loaded as 'df')\n",
    "df = pd.read_csv(r\"C:\\devopspro2\\app\\restaurant_data.csv\")\n",
    "\n",
    "\n",
    "\n",
    "# Select features for clustering\n",
    "features = ['Rating', 'Average Cost for Two (INR)', 'Total Reviews']\n",
    "scaler = StandardScaler()\n",
    "scaled_features = scaler.fit_transform(df[features])\n",
    "\n",
    "# Fit K-Means\n",
    "kmeans = KMeans(n_clusters=3, random_state=42)  # Adjust n_clusters as needed\n",
    "df['Cluster'] = kmeans.fit_predict(scaled_features)\n",
    "\n",
    "# Function to recommend restaurants based on city, rating, and price constraints\n",
    "def recommend_restaurants_by_city_and_constraints(user_city, min_rating, max_price, user_cluster=None):\n",
    "    user_city = user_city.lower()\n",
    "\n",
    "    # Check if the entered city exists in the dataset\n",
    "    available_cities = df['City'].str.lower().unique()\n",
    "    if user_city not in available_cities:\n",
    "        print(f\"Sorry, we couldn't find any restaurants in the city '{user_city}'.\")\n",
    "        return pd.DataFrame()\n",
    "\n",
    "    # Filter restaurants in the specified city\n",
    "    city_restaurants = df[df['City'].str.lower() == user_city]\n",
    "\n",
    "    # Apply cluster filtering if user_cluster is specified\n",
    "    if user_cluster is not None:\n",
    "        city_restaurants = city_restaurants[city_restaurants['Cluster'] == user_cluster]\n",
    "\n",
    "    # Apply rating and price constraints\n",
    "    filtered_restaurants = city_restaurants[\n",
    "        (city_restaurants['Rating'] >= min_rating) &\n",
    "        (city_restaurants['Average Cost for Two (INR)'] <= max_price)\n",
    "    ]\n",
    "\n",
    "    return filtered_restaurants\n",
    "\n",
    "# Get user input for city, rating, and price\n",
    "user_city = input(\"Enter the city: \").strip()\n",
    "min_rating = float(input(\"Enter minimum rating (e.g., 4.0): \"))\n",
    "max_price = float(input(\"Enter maximum price for two (e.g., 1000): \"))\n",
    "\n",
    "# Recommend restaurants based on city, rating, and price constraints\n",
    "recommended_restaurants = recommend_restaurants_by_city_and_constraints(user_city, min_rating, max_price)\n",
    "\n",
    "# Display the recommended restaurants using PrettyTable if there are results\n",
    "if recommended_restaurants.empty:\n",
    "    print(\"No restaurants found with the specified criteria.\")\n",
    "else:\n",
    "    # Create a PrettyTable object to display the output in a tabular format\n",
    "    table = PrettyTable()\n",
    "    table.field_names = [\"Location\", \"Name\", \"City\", \"Cuisine\", \"Rating\", \"Total Reviews\", \"Average Cost for Two (INR)\"]\n",
    "\n",
    "    # Add rows to the table\n",
    "    for _, row in recommended_restaurants.iterrows():\n",
    "        table.add_row([row['Location'], row['Name'], row['City'], row['Cuisine'], row['Rating'], row['Total Reviews'], row['Average Cost for Two (INR)']])\n",
    "\n",
    "    # Print the table\n",
    "    print(f\"\\nRecommended Restaurants in {user_city.capitalize()} with rating >= {min_rating} and price <= {max_price}:\")\n",
    "    print(table)"
   ]
  }
 ],
 "metadata": {
  "kernelspec": {
   "display_name": "Python 3",
   "language": "python",
   "name": "python3"
  },
  "language_info": {
   "codemirror_mode": {
    "name": "ipython",
    "version": 3
   },
   "file_extension": ".py",
   "mimetype": "text/x-python",
   "name": "python",
   "nbconvert_exporter": "python",
   "pygments_lexer": "ipython3",
   "version": "3.12.10"
  }
 },
 "nbformat": 4,
 "nbformat_minor": 5
}
